{
 "cells": [
  {
   "cell_type": "code",
   "execution_count": 1,
   "metadata": {},
   "outputs": [
    {
     "name": "stdout",
     "output_type": "stream",
     "text": [
      " * Serving Flask app \"__main__\" (lazy loading)\n",
      " * Environment: production\n",
      "   WARNING: This is a development server. Do not use it in a production deployment.\n",
      "   Use a production WSGI server instead.\n",
      " * Debug mode: on\n"
     ]
    },
    {
     "name": "stderr",
     "output_type": "stream",
     "text": [
      " * Running on http://127.0.0.1:5000/ (Press CTRL+C to quit)\n",
      "127.0.0.1 - - [06/Jul/2020 21:13:43] \"\u001b[37mGET / HTTP/1.1\u001b[0m\" 200 -\n",
      "127.0.0.1 - - [06/Jul/2020 21:13:43] \"\u001b[33mGET /favicon.ico HTTP/1.1\u001b[0m\" 404 -\n",
      "127.0.0.1 - - [06/Jul/2020 21:14:01] \"\u001b[37mGET /resume HTTP/1.1\u001b[0m\" 200 -\n",
      "127.0.0.1 - - [06/Jul/2020 21:14:01] \"\u001b[33mGET /resume.css HTTP/1.1\u001b[0m\" 404 -\n",
      "127.0.0.1 - - [06/Jul/2020 21:14:01] \"\u001b[33mGET /favicon.ico HTTP/1.1\u001b[0m\" 404 -\n",
      "127.0.0.1 - - [06/Jul/2020 21:14:24] \"\u001b[37mGET / HTTP/1.1\u001b[0m\" 200 -\n"
     ]
    }
   ],
   "source": [
    "from flask import Flask, render_template, request, url_for, redirect\n",
    "from vid_nlu import Video\n",
    "\n",
    "app = Flask(__name__)\n",
    "\n",
    "@app.route(\"/\", methods = [\"GET\",\"POST\"])\n",
    "def dashboard():\n",
    "    return render_template(\"dashboard.html\")\n",
    "    \n",
    "@app.route(\"/about\", methods = [\"GET\",\"POST\"])\n",
    "def about():\n",
    "    return render_template(\"about.html\")\n",
    "    \n",
    "@app.route(\"/resume\", methods = [\"GET\",\"POST\"])\n",
    "def resume():\n",
    "    error = ''\n",
    "    try:\n",
    "        if request.method == \"POST\":\n",
    "            post = request.form['post']\n",
    "            url = request.form['link']\n",
    "            print(post,url)\n",
    "        elif request.method == \"GET\":\n",
    "            return render_template(\"resume.html\")\n",
    "        \n",
    "        return render_template(\"dashboard.html\", error=error)\n",
    "        \n",
    "    except Exception as e:\n",
    "        return render_template('resume.html', error = error)\n",
    "\n",
    "app.run(debug=True, use_reloader = False)"
   ]
  },
  {
   "cell_type": "code",
   "execution_count": null,
   "metadata": {},
   "outputs": [],
   "source": []
  }
 ],
 "metadata": {
  "kernelspec": {
   "display_name": "Python 3",
   "language": "python",
   "name": "python3"
  },
  "language_info": {
   "codemirror_mode": {
    "name": "ipython",
    "version": 3
   },
   "file_extension": ".py",
   "mimetype": "text/x-python",
   "name": "python",
   "nbconvert_exporter": "python",
   "pygments_lexer": "ipython3",
   "version": "3.7.6"
  }
 },
 "nbformat": 4,
 "nbformat_minor": 4
}
